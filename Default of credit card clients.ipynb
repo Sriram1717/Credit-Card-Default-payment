{
 "cells": [
  {
   "cell_type": "markdown",
   "metadata": {},
   "source": [
    "***\n",
    "# DEFAULT PAYMENT OF CREDIT CARD CLIENTS\n",
    "***"
   ]
  },
  {
   "cell_type": "markdown",
   "metadata": {},
   "source": [
    "## Predicting whether a client will default in their payments\n",
    "***"
   ]
  },
  {
   "cell_type": "markdown",
   "metadata": {},
   "source": [
    "Dataset obtained from [Kaggle](https://www.kaggle.com/uciml/default-of-credit-card-clients-dataset).\n",
    "It shows Default Payments of Credit Card Clients in Taiwan from 2005\n",
    "The original dataset can be found at the UCI Machine Learning Repository."
   ]
  },
  {
   "cell_type": "markdown",
   "metadata": {},
   "source": [
    "***\n",
    "### There are 25 features to consider:\n",
    "As mentioned in the website\n",
    "***\n",
    "1. ID: ID of each client\n",
    "2. LIMIT_BAL: Amount of given credit in NT dollars (includes individual and family/supplementary credit)\n",
    "3. SEX: Gender (1=male, 2=female)\n",
    "4. EDUCATION: (1=graduate school, 2=university, 3=high school, 4=others, 5=unknown, 6=unknown)\n",
    "5. MARRIAGE: Marital status (1=married, 2=single, 3=others)\n",
    "6. AGE: Age in years\n",
    "7. PAY_0: Repayment status in September, 2005 (-1=pay duly, 1=payment delay for one month, 2=payment delay for two months, … 8=payment delay for eight months, 9=payment delay for nine months and above)\n",
    "8. PAY_2: Repayment status in August, 2005 (scale same as above)\n",
    "9. PAY_3: Repayment status in July, 2005 (scale same as above)\n",
    "10. PAY_4: Repayment status in June, 2005 (scale same as above)\n",
    "11. PAY_5: Repayment status in May, 2005 (scale same as above)\n",
    "12. PAY_6: Repayment status in April, 2005 (scale same as above)\n",
    "13. BILL_AMT1: Amount of bill statement in September, 2005 (NT dollar)\n",
    "14. BILL_AMT2: Amount of bill statement in August, 2005 (NT dollar)\n",
    "15. BILL_AMT3: Amount of bill statement in July, 2005 (NT dollar)\n",
    "16. BILL_AMT4: Amount of bill statement in June, 2005 (NT dollar)\n",
    "17. BILL_AMT5: Amount of bill statement in May, 2005 (NT dollar)\n",
    "18. BILL_AMT6: Amount of bill statement in April, 2005 (NT dollar)\n",
    "20. PAY_AMT1: Amount of previous payment in September, 2005 (NT dollar)\n",
    "21. PAY_AMT2: Amount of previous payment in August, 2005 (NT dollar)\n",
    "22. PAY_AMT3: Amount of previous payment in July, 2005 (NT dollar)\n",
    "23. PAY_AMT4: Amount of previous payment in June, 2005 (NT dollar)\n",
    "24. PAY_AMT5: Amount of previous payment in May, 2005 (NT dollar)\n",
    "25. PAY_AMT6: Amount of previous payment in April, 2005 (NT dollar)\n",
    "* target variable: default.payment.next.month: Default payment (1=yes, 0=no)\n",
    "***"
   ]
  },
  {
   "cell_type": "code",
   "execution_count": 1,
   "metadata": {},
   "outputs": [],
   "source": [
    "# importing necessary modules\n",
    "import numpy as np\n",
    "import pandas as pd\n",
    "import matplotlib.pyplot as plt\n",
    "import seaborn as sns\n",
    "%matplotlib inline"
   ]
  },
  {
   "cell_type": "code",
   "execution_count": 2,
   "metadata": {},
   "outputs": [],
   "source": [
    "# Reading csv file to get the data\n",
    "data = pd.read_csv('/Users/sriramsureshkumar/Desktop/CSV files/UCI_Credit_Card.csv')"
   ]
  },
  {
   "cell_type": "code",
   "execution_count": 3,
   "metadata": {},
   "outputs": [
    {
     "data": {
      "text/html": [
       "<div>\n",
       "<style scoped>\n",
       "    .dataframe tbody tr th:only-of-type {\n",
       "        vertical-align: middle;\n",
       "    }\n",
       "\n",
       "    .dataframe tbody tr th {\n",
       "        vertical-align: top;\n",
       "    }\n",
       "\n",
       "    .dataframe thead th {\n",
       "        text-align: right;\n",
       "    }\n",
       "</style>\n",
       "<table border=\"1\" class=\"dataframe\">\n",
       "  <thead>\n",
       "    <tr style=\"text-align: right;\">\n",
       "      <th></th>\n",
       "      <th>ID</th>\n",
       "      <th>LIMIT_BAL</th>\n",
       "      <th>SEX</th>\n",
       "      <th>EDUCATION</th>\n",
       "      <th>MARRIAGE</th>\n",
       "      <th>AGE</th>\n",
       "      <th>PAY_0</th>\n",
       "      <th>PAY_2</th>\n",
       "      <th>PAY_3</th>\n",
       "      <th>PAY_4</th>\n",
       "      <th>...</th>\n",
       "      <th>BILL_AMT4</th>\n",
       "      <th>BILL_AMT5</th>\n",
       "      <th>BILL_AMT6</th>\n",
       "      <th>PAY_AMT1</th>\n",
       "      <th>PAY_AMT2</th>\n",
       "      <th>PAY_AMT3</th>\n",
       "      <th>PAY_AMT4</th>\n",
       "      <th>PAY_AMT5</th>\n",
       "      <th>PAY_AMT6</th>\n",
       "      <th>default.payment.next.month</th>\n",
       "    </tr>\n",
       "  </thead>\n",
       "  <tbody>\n",
       "    <tr>\n",
       "      <th>0</th>\n",
       "      <td>1</td>\n",
       "      <td>20000.0</td>\n",
       "      <td>2</td>\n",
       "      <td>2</td>\n",
       "      <td>1</td>\n",
       "      <td>24</td>\n",
       "      <td>2</td>\n",
       "      <td>2</td>\n",
       "      <td>-1</td>\n",
       "      <td>-1</td>\n",
       "      <td>...</td>\n",
       "      <td>0.0</td>\n",
       "      <td>0.0</td>\n",
       "      <td>0.0</td>\n",
       "      <td>0.0</td>\n",
       "      <td>689.0</td>\n",
       "      <td>0.0</td>\n",
       "      <td>0.0</td>\n",
       "      <td>0.0</td>\n",
       "      <td>0.0</td>\n",
       "      <td>1</td>\n",
       "    </tr>\n",
       "    <tr>\n",
       "      <th>1</th>\n",
       "      <td>2</td>\n",
       "      <td>120000.0</td>\n",
       "      <td>2</td>\n",
       "      <td>2</td>\n",
       "      <td>2</td>\n",
       "      <td>26</td>\n",
       "      <td>-1</td>\n",
       "      <td>2</td>\n",
       "      <td>0</td>\n",
       "      <td>0</td>\n",
       "      <td>...</td>\n",
       "      <td>3272.0</td>\n",
       "      <td>3455.0</td>\n",
       "      <td>3261.0</td>\n",
       "      <td>0.0</td>\n",
       "      <td>1000.0</td>\n",
       "      <td>1000.0</td>\n",
       "      <td>1000.0</td>\n",
       "      <td>0.0</td>\n",
       "      <td>2000.0</td>\n",
       "      <td>1</td>\n",
       "    </tr>\n",
       "    <tr>\n",
       "      <th>2</th>\n",
       "      <td>3</td>\n",
       "      <td>90000.0</td>\n",
       "      <td>2</td>\n",
       "      <td>2</td>\n",
       "      <td>2</td>\n",
       "      <td>34</td>\n",
       "      <td>0</td>\n",
       "      <td>0</td>\n",
       "      <td>0</td>\n",
       "      <td>0</td>\n",
       "      <td>...</td>\n",
       "      <td>14331.0</td>\n",
       "      <td>14948.0</td>\n",
       "      <td>15549.0</td>\n",
       "      <td>1518.0</td>\n",
       "      <td>1500.0</td>\n",
       "      <td>1000.0</td>\n",
       "      <td>1000.0</td>\n",
       "      <td>1000.0</td>\n",
       "      <td>5000.0</td>\n",
       "      <td>0</td>\n",
       "    </tr>\n",
       "    <tr>\n",
       "      <th>3</th>\n",
       "      <td>4</td>\n",
       "      <td>50000.0</td>\n",
       "      <td>2</td>\n",
       "      <td>2</td>\n",
       "      <td>1</td>\n",
       "      <td>37</td>\n",
       "      <td>0</td>\n",
       "      <td>0</td>\n",
       "      <td>0</td>\n",
       "      <td>0</td>\n",
       "      <td>...</td>\n",
       "      <td>28314.0</td>\n",
       "      <td>28959.0</td>\n",
       "      <td>29547.0</td>\n",
       "      <td>2000.0</td>\n",
       "      <td>2019.0</td>\n",
       "      <td>1200.0</td>\n",
       "      <td>1100.0</td>\n",
       "      <td>1069.0</td>\n",
       "      <td>1000.0</td>\n",
       "      <td>0</td>\n",
       "    </tr>\n",
       "    <tr>\n",
       "      <th>4</th>\n",
       "      <td>5</td>\n",
       "      <td>50000.0</td>\n",
       "      <td>1</td>\n",
       "      <td>2</td>\n",
       "      <td>1</td>\n",
       "      <td>57</td>\n",
       "      <td>-1</td>\n",
       "      <td>0</td>\n",
       "      <td>-1</td>\n",
       "      <td>0</td>\n",
       "      <td>...</td>\n",
       "      <td>20940.0</td>\n",
       "      <td>19146.0</td>\n",
       "      <td>19131.0</td>\n",
       "      <td>2000.0</td>\n",
       "      <td>36681.0</td>\n",
       "      <td>10000.0</td>\n",
       "      <td>9000.0</td>\n",
       "      <td>689.0</td>\n",
       "      <td>679.0</td>\n",
       "      <td>0</td>\n",
       "    </tr>\n",
       "  </tbody>\n",
       "</table>\n",
       "<p>5 rows × 25 columns</p>\n",
       "</div>"
      ],
      "text/plain": [
       "   ID  LIMIT_BAL  SEX  EDUCATION  MARRIAGE  AGE  PAY_0  PAY_2  PAY_3  PAY_4  \\\n",
       "0   1    20000.0    2          2         1   24      2      2     -1     -1   \n",
       "1   2   120000.0    2          2         2   26     -1      2      0      0   \n",
       "2   3    90000.0    2          2         2   34      0      0      0      0   \n",
       "3   4    50000.0    2          2         1   37      0      0      0      0   \n",
       "4   5    50000.0    1          2         1   57     -1      0     -1      0   \n",
       "\n",
       "   ...  BILL_AMT4  BILL_AMT5  BILL_AMT6  PAY_AMT1  PAY_AMT2  PAY_AMT3  \\\n",
       "0  ...        0.0        0.0        0.0       0.0     689.0       0.0   \n",
       "1  ...     3272.0     3455.0     3261.0       0.0    1000.0    1000.0   \n",
       "2  ...    14331.0    14948.0    15549.0    1518.0    1500.0    1000.0   \n",
       "3  ...    28314.0    28959.0    29547.0    2000.0    2019.0    1200.0   \n",
       "4  ...    20940.0    19146.0    19131.0    2000.0   36681.0   10000.0   \n",
       "\n",
       "   PAY_AMT4  PAY_AMT5  PAY_AMT6  default.payment.next.month  \n",
       "0       0.0       0.0       0.0                           1  \n",
       "1    1000.0       0.0    2000.0                           1  \n",
       "2    1000.0    1000.0    5000.0                           0  \n",
       "3    1100.0    1069.0    1000.0                           0  \n",
       "4    9000.0     689.0     679.0                           0  \n",
       "\n",
       "[5 rows x 25 columns]"
      ]
     },
     "execution_count": 3,
     "metadata": {},
     "output_type": "execute_result"
    }
   ],
   "source": [
    "# Looking at a sample of data\n",
    "data.head()"
   ]
  },
  {
   "cell_type": "code",
   "execution_count": 4,
   "metadata": {},
   "outputs": [
    {
     "data": {
      "text/plain": [
       "Index(['ID', 'LIMIT_BAL', 'SEX', 'EDUCATION', 'MARRIAGE', 'AGE', 'PAY_0',\n",
       "       'PAY_2', 'PAY_3', 'PAY_4', 'PAY_5', 'PAY_6', 'BILL_AMT1', 'BILL_AMT2',\n",
       "       'BILL_AMT3', 'BILL_AMT4', 'BILL_AMT5', 'BILL_AMT6', 'PAY_AMT1',\n",
       "       'PAY_AMT2', 'PAY_AMT3', 'PAY_AMT4', 'PAY_AMT5', 'PAY_AMT6',\n",
       "       'default.payment.next.month'],\n",
       "      dtype='object')"
      ]
     },
     "execution_count": 4,
     "metadata": {},
     "output_type": "execute_result"
    }
   ],
   "source": [
    "data.columns"
   ]
  },
  {
   "cell_type": "code",
   "execution_count": 5,
   "metadata": {},
   "outputs": [
    {
     "data": {
      "text/html": [
       "<div>\n",
       "<style scoped>\n",
       "    .dataframe tbody tr th:only-of-type {\n",
       "        vertical-align: middle;\n",
       "    }\n",
       "\n",
       "    .dataframe tbody tr th {\n",
       "        vertical-align: top;\n",
       "    }\n",
       "\n",
       "    .dataframe thead th {\n",
       "        text-align: right;\n",
       "    }\n",
       "</style>\n",
       "<table border=\"1\" class=\"dataframe\">\n",
       "  <thead>\n",
       "    <tr style=\"text-align: right;\">\n",
       "      <th></th>\n",
       "      <th>ID</th>\n",
       "      <th>LIMIT_BAL</th>\n",
       "      <th>SEX</th>\n",
       "      <th>EDUCATION</th>\n",
       "      <th>MARRIAGE</th>\n",
       "      <th>AGE</th>\n",
       "      <th>PAY_0</th>\n",
       "      <th>PAY_2</th>\n",
       "      <th>PAY_3</th>\n",
       "      <th>PAY_4</th>\n",
       "      <th>...</th>\n",
       "      <th>BILL_AMT4</th>\n",
       "      <th>BILL_AMT5</th>\n",
       "      <th>BILL_AMT6</th>\n",
       "      <th>PAY_AMT1</th>\n",
       "      <th>PAY_AMT2</th>\n",
       "      <th>PAY_AMT3</th>\n",
       "      <th>PAY_AMT4</th>\n",
       "      <th>PAY_AMT5</th>\n",
       "      <th>PAY_AMT6</th>\n",
       "      <th>default.payment.next.month</th>\n",
       "    </tr>\n",
       "  </thead>\n",
       "  <tbody>\n",
       "    <tr>\n",
       "      <th>count</th>\n",
       "      <td>30000.000000</td>\n",
       "      <td>30000.000000</td>\n",
       "      <td>30000.000000</td>\n",
       "      <td>30000.000000</td>\n",
       "      <td>30000.000000</td>\n",
       "      <td>30000.000000</td>\n",
       "      <td>30000.000000</td>\n",
       "      <td>30000.000000</td>\n",
       "      <td>30000.000000</td>\n",
       "      <td>30000.000000</td>\n",
       "      <td>...</td>\n",
       "      <td>30000.000000</td>\n",
       "      <td>30000.000000</td>\n",
       "      <td>30000.000000</td>\n",
       "      <td>30000.000000</td>\n",
       "      <td>3.000000e+04</td>\n",
       "      <td>30000.00000</td>\n",
       "      <td>30000.000000</td>\n",
       "      <td>30000.000000</td>\n",
       "      <td>30000.000000</td>\n",
       "      <td>30000.000000</td>\n",
       "    </tr>\n",
       "    <tr>\n",
       "      <th>mean</th>\n",
       "      <td>15000.500000</td>\n",
       "      <td>167484.322667</td>\n",
       "      <td>1.603733</td>\n",
       "      <td>1.853133</td>\n",
       "      <td>1.551867</td>\n",
       "      <td>35.485500</td>\n",
       "      <td>-0.016700</td>\n",
       "      <td>-0.133767</td>\n",
       "      <td>-0.166200</td>\n",
       "      <td>-0.220667</td>\n",
       "      <td>...</td>\n",
       "      <td>43262.948967</td>\n",
       "      <td>40311.400967</td>\n",
       "      <td>38871.760400</td>\n",
       "      <td>5663.580500</td>\n",
       "      <td>5.921163e+03</td>\n",
       "      <td>5225.68150</td>\n",
       "      <td>4826.076867</td>\n",
       "      <td>4799.387633</td>\n",
       "      <td>5215.502567</td>\n",
       "      <td>0.221200</td>\n",
       "    </tr>\n",
       "    <tr>\n",
       "      <th>std</th>\n",
       "      <td>8660.398374</td>\n",
       "      <td>129747.661567</td>\n",
       "      <td>0.489129</td>\n",
       "      <td>0.790349</td>\n",
       "      <td>0.521970</td>\n",
       "      <td>9.217904</td>\n",
       "      <td>1.123802</td>\n",
       "      <td>1.197186</td>\n",
       "      <td>1.196868</td>\n",
       "      <td>1.169139</td>\n",
       "      <td>...</td>\n",
       "      <td>64332.856134</td>\n",
       "      <td>60797.155770</td>\n",
       "      <td>59554.107537</td>\n",
       "      <td>16563.280354</td>\n",
       "      <td>2.304087e+04</td>\n",
       "      <td>17606.96147</td>\n",
       "      <td>15666.159744</td>\n",
       "      <td>15278.305679</td>\n",
       "      <td>17777.465775</td>\n",
       "      <td>0.415062</td>\n",
       "    </tr>\n",
       "    <tr>\n",
       "      <th>min</th>\n",
       "      <td>1.000000</td>\n",
       "      <td>10000.000000</td>\n",
       "      <td>1.000000</td>\n",
       "      <td>0.000000</td>\n",
       "      <td>0.000000</td>\n",
       "      <td>21.000000</td>\n",
       "      <td>-2.000000</td>\n",
       "      <td>-2.000000</td>\n",
       "      <td>-2.000000</td>\n",
       "      <td>-2.000000</td>\n",
       "      <td>...</td>\n",
       "      <td>-170000.000000</td>\n",
       "      <td>-81334.000000</td>\n",
       "      <td>-339603.000000</td>\n",
       "      <td>0.000000</td>\n",
       "      <td>0.000000e+00</td>\n",
       "      <td>0.00000</td>\n",
       "      <td>0.000000</td>\n",
       "      <td>0.000000</td>\n",
       "      <td>0.000000</td>\n",
       "      <td>0.000000</td>\n",
       "    </tr>\n",
       "    <tr>\n",
       "      <th>25%</th>\n",
       "      <td>7500.750000</td>\n",
       "      <td>50000.000000</td>\n",
       "      <td>1.000000</td>\n",
       "      <td>1.000000</td>\n",
       "      <td>1.000000</td>\n",
       "      <td>28.000000</td>\n",
       "      <td>-1.000000</td>\n",
       "      <td>-1.000000</td>\n",
       "      <td>-1.000000</td>\n",
       "      <td>-1.000000</td>\n",
       "      <td>...</td>\n",
       "      <td>2326.750000</td>\n",
       "      <td>1763.000000</td>\n",
       "      <td>1256.000000</td>\n",
       "      <td>1000.000000</td>\n",
       "      <td>8.330000e+02</td>\n",
       "      <td>390.00000</td>\n",
       "      <td>296.000000</td>\n",
       "      <td>252.500000</td>\n",
       "      <td>117.750000</td>\n",
       "      <td>0.000000</td>\n",
       "    </tr>\n",
       "    <tr>\n",
       "      <th>50%</th>\n",
       "      <td>15000.500000</td>\n",
       "      <td>140000.000000</td>\n",
       "      <td>2.000000</td>\n",
       "      <td>2.000000</td>\n",
       "      <td>2.000000</td>\n",
       "      <td>34.000000</td>\n",
       "      <td>0.000000</td>\n",
       "      <td>0.000000</td>\n",
       "      <td>0.000000</td>\n",
       "      <td>0.000000</td>\n",
       "      <td>...</td>\n",
       "      <td>19052.000000</td>\n",
       "      <td>18104.500000</td>\n",
       "      <td>17071.000000</td>\n",
       "      <td>2100.000000</td>\n",
       "      <td>2.009000e+03</td>\n",
       "      <td>1800.00000</td>\n",
       "      <td>1500.000000</td>\n",
       "      <td>1500.000000</td>\n",
       "      <td>1500.000000</td>\n",
       "      <td>0.000000</td>\n",
       "    </tr>\n",
       "    <tr>\n",
       "      <th>75%</th>\n",
       "      <td>22500.250000</td>\n",
       "      <td>240000.000000</td>\n",
       "      <td>2.000000</td>\n",
       "      <td>2.000000</td>\n",
       "      <td>2.000000</td>\n",
       "      <td>41.000000</td>\n",
       "      <td>0.000000</td>\n",
       "      <td>0.000000</td>\n",
       "      <td>0.000000</td>\n",
       "      <td>0.000000</td>\n",
       "      <td>...</td>\n",
       "      <td>54506.000000</td>\n",
       "      <td>50190.500000</td>\n",
       "      <td>49198.250000</td>\n",
       "      <td>5006.000000</td>\n",
       "      <td>5.000000e+03</td>\n",
       "      <td>4505.00000</td>\n",
       "      <td>4013.250000</td>\n",
       "      <td>4031.500000</td>\n",
       "      <td>4000.000000</td>\n",
       "      <td>0.000000</td>\n",
       "    </tr>\n",
       "    <tr>\n",
       "      <th>max</th>\n",
       "      <td>30000.000000</td>\n",
       "      <td>1000000.000000</td>\n",
       "      <td>2.000000</td>\n",
       "      <td>6.000000</td>\n",
       "      <td>3.000000</td>\n",
       "      <td>79.000000</td>\n",
       "      <td>8.000000</td>\n",
       "      <td>8.000000</td>\n",
       "      <td>8.000000</td>\n",
       "      <td>8.000000</td>\n",
       "      <td>...</td>\n",
       "      <td>891586.000000</td>\n",
       "      <td>927171.000000</td>\n",
       "      <td>961664.000000</td>\n",
       "      <td>873552.000000</td>\n",
       "      <td>1.684259e+06</td>\n",
       "      <td>896040.00000</td>\n",
       "      <td>621000.000000</td>\n",
       "      <td>426529.000000</td>\n",
       "      <td>528666.000000</td>\n",
       "      <td>1.000000</td>\n",
       "    </tr>\n",
       "  </tbody>\n",
       "</table>\n",
       "<p>8 rows × 25 columns</p>\n",
       "</div>"
      ],
      "text/plain": [
       "                 ID       LIMIT_BAL           SEX     EDUCATION      MARRIAGE  \\\n",
       "count  30000.000000    30000.000000  30000.000000  30000.000000  30000.000000   \n",
       "mean   15000.500000   167484.322667      1.603733      1.853133      1.551867   \n",
       "std     8660.398374   129747.661567      0.489129      0.790349      0.521970   \n",
       "min        1.000000    10000.000000      1.000000      0.000000      0.000000   \n",
       "25%     7500.750000    50000.000000      1.000000      1.000000      1.000000   \n",
       "50%    15000.500000   140000.000000      2.000000      2.000000      2.000000   \n",
       "75%    22500.250000   240000.000000      2.000000      2.000000      2.000000   \n",
       "max    30000.000000  1000000.000000      2.000000      6.000000      3.000000   \n",
       "\n",
       "                AGE         PAY_0         PAY_2         PAY_3         PAY_4  \\\n",
       "count  30000.000000  30000.000000  30000.000000  30000.000000  30000.000000   \n",
       "mean      35.485500     -0.016700     -0.133767     -0.166200     -0.220667   \n",
       "std        9.217904      1.123802      1.197186      1.196868      1.169139   \n",
       "min       21.000000     -2.000000     -2.000000     -2.000000     -2.000000   \n",
       "25%       28.000000     -1.000000     -1.000000     -1.000000     -1.000000   \n",
       "50%       34.000000      0.000000      0.000000      0.000000      0.000000   \n",
       "75%       41.000000      0.000000      0.000000      0.000000      0.000000   \n",
       "max       79.000000      8.000000      8.000000      8.000000      8.000000   \n",
       "\n",
       "       ...      BILL_AMT4      BILL_AMT5      BILL_AMT6       PAY_AMT1  \\\n",
       "count  ...   30000.000000   30000.000000   30000.000000   30000.000000   \n",
       "mean   ...   43262.948967   40311.400967   38871.760400    5663.580500   \n",
       "std    ...   64332.856134   60797.155770   59554.107537   16563.280354   \n",
       "min    ... -170000.000000  -81334.000000 -339603.000000       0.000000   \n",
       "25%    ...    2326.750000    1763.000000    1256.000000    1000.000000   \n",
       "50%    ...   19052.000000   18104.500000   17071.000000    2100.000000   \n",
       "75%    ...   54506.000000   50190.500000   49198.250000    5006.000000   \n",
       "max    ...  891586.000000  927171.000000  961664.000000  873552.000000   \n",
       "\n",
       "           PAY_AMT2      PAY_AMT3       PAY_AMT4       PAY_AMT5  \\\n",
       "count  3.000000e+04   30000.00000   30000.000000   30000.000000   \n",
       "mean   5.921163e+03    5225.68150    4826.076867    4799.387633   \n",
       "std    2.304087e+04   17606.96147   15666.159744   15278.305679   \n",
       "min    0.000000e+00       0.00000       0.000000       0.000000   \n",
       "25%    8.330000e+02     390.00000     296.000000     252.500000   \n",
       "50%    2.009000e+03    1800.00000    1500.000000    1500.000000   \n",
       "75%    5.000000e+03    4505.00000    4013.250000    4031.500000   \n",
       "max    1.684259e+06  896040.00000  621000.000000  426529.000000   \n",
       "\n",
       "            PAY_AMT6  default.payment.next.month  \n",
       "count   30000.000000                30000.000000  \n",
       "mean     5215.502567                    0.221200  \n",
       "std     17777.465775                    0.415062  \n",
       "min         0.000000                    0.000000  \n",
       "25%       117.750000                    0.000000  \n",
       "50%      1500.000000                    0.000000  \n",
       "75%      4000.000000                    0.000000  \n",
       "max    528666.000000                    1.000000  \n",
       "\n",
       "[8 rows x 25 columns]"
      ]
     },
     "execution_count": 5,
     "metadata": {},
     "output_type": "execute_result"
    }
   ],
   "source": [
    "data.describe()"
   ]
  },
  {
   "cell_type": "code",
   "execution_count": 6,
   "metadata": {},
   "outputs": [
    {
     "data": {
      "text/plain": [
       "ID                            0\n",
       "LIMIT_BAL                     0\n",
       "SEX                           0\n",
       "EDUCATION                     0\n",
       "MARRIAGE                      0\n",
       "AGE                           0\n",
       "PAY_0                         0\n",
       "PAY_2                         0\n",
       "PAY_3                         0\n",
       "PAY_4                         0\n",
       "PAY_5                         0\n",
       "PAY_6                         0\n",
       "BILL_AMT1                     0\n",
       "BILL_AMT2                     0\n",
       "BILL_AMT3                     0\n",
       "BILL_AMT4                     0\n",
       "BILL_AMT5                     0\n",
       "BILL_AMT6                     0\n",
       "PAY_AMT1                      0\n",
       "PAY_AMT2                      0\n",
       "PAY_AMT3                      0\n",
       "PAY_AMT4                      0\n",
       "PAY_AMT5                      0\n",
       "PAY_AMT6                      0\n",
       "default.payment.next.month    0\n",
       "dtype: int64"
      ]
     },
     "execution_count": 6,
     "metadata": {},
     "output_type": "execute_result"
    }
   ],
   "source": [
    "data.isnull().sum()"
   ]
  },
  {
   "cell_type": "markdown",
   "metadata": {},
   "source": [
    "***\n",
    "## Exploratory Data Analysis\n",
    "***"
   ]
  },
  {
   "cell_type": "code",
   "execution_count": 7,
   "metadata": {},
   "outputs": [],
   "source": [
    "sns.set_style('whitegrid')"
   ]
  },
  {
   "cell_type": "code",
   "execution_count": 8,
   "metadata": {},
   "outputs": [
    {
     "data": {
      "text/plain": [
       "<matplotlib.axes._subplots.AxesSubplot at 0xb1e96a350>"
      ]
     },
     "execution_count": 8,
     "metadata": {},
     "output_type": "execute_result"
    },
    {
     "data": {
      "image/png": "[encoded data removed]",
      "text/plain": [
       "<Figure size 720x432 with 1 Axes>"
      ]
     },
     "metadata": {},
     "output_type": "display_data"
    }
   ],
   "source": [
    "# Looking at the count of no. of people who defaulted\n",
    "plt.figure(figsize=(10,6))\n",
    "sns.countplot('default.payment.next.month', data=data)"
   ]
  },
  {
   "cell_type": "code",
   "execution_count": 9,
   "metadata": {},
   "outputs": [
    {
     "name": "stdout",
     "output_type": "stream",
     "text": [
      "28.403 %\n"
     ]
    }
   ],
   "source": [
    "# Checking the percentage of people who defaulted\n",
    "x = data[data['default.payment.next.month'] == 1]['ID'].count()\n",
    "y = data[data['default.payment.next.month'] == 0]['ID'].count()\n",
    "print(round((x/y)*100,3),'%')"
   ]
  },
  {
   "cell_type": "markdown",
   "metadata": {},
   "source": [
    "***\n",
    "### Let's make count plots of all categorical features"
   ]
  },
  {
   "cell_type": "code",
   "execution_count": 10,
   "metadata": {
    "scrolled": false
   },
   "outputs": [
    {
     "data": {
      "text/plain": [
       "Text(0.5, 0, 'EDUCATION: (1=graduate school, 2=university, 3=high school, 4=others, 5=unknown, 6=unknown)')"
      ]
     },
     "execution_count": 10,
     "metadata": {},
     "output_type": "execute_result"
    },
    {
     "data": {
      "image/png": "[encoded data removed]",
      "text/plain": [
       "<Figure size 720x432 with 1 Axes>"
      ]
     },
     "metadata": {},
     "output_type": "display_data"
    }
   ],
   "source": [
    "plt.figure(figsize=(10,6))\n",
    "sns.countplot('EDUCATION', data=data)\n",
    "plt.xlabel('EDUCATION: (1=graduate school, 2=university, 3=high school, 4=others, 5=unknown, 6=unknown)')"
   ]
  },
  {
   "cell_type": "markdown",
   "metadata": {},
   "source": [
    "### Looks like there are labels which are 0, but it's not mentioned exactly what they are.\n",
    "***"
   ]
  },
  {
   "cell_type": "code",
   "execution_count": 11,
   "metadata": {},
   "outputs": [
    {
     "data": {
      "text/plain": [
       "Text(0.5, 0, 'MARRIAGE: Marital status (1=married, 2=single, 3=others)')"
      ]
     },
     "execution_count": 11,
     "metadata": {},
     "output_type": "execute_result"
    },
    {
     "data": {
      "image/png": "[encoded data removed]",
      "text/plain": [
       "<Figure size 720x432 with 1 Axes>"
      ]
     },
     "metadata": {},
     "output_type": "display_data"
    }
   ],
   "source": [
    "plt.figure(figsize=(10,6))\n",
    "sns.countplot('MARRIAGE', data=data)\n",
    "plt.xlabel('MARRIAGE: Marital status (1=married, 2=single, 3=others)')"
   ]
  },
  {
   "cell_type": "markdown",
   "metadata": {},
   "source": [
    "### Again there are labels which are 0. They could be undocumented and hence given the 0 value\n",
    "***"
   ]
  },
  {
   "cell_type": "code",
   "execution_count": 12,
   "metadata": {
    "scrolled": true
   },
   "outputs": [
    {
     "data": {
      "text/plain": [
       "Text(0.5, 0, 'SEX (1=male, 2=female)')"
      ]
     },
     "execution_count": 12,
     "metadata": {},
     "output_type": "execute_result"
    },
    {
     "data": {
      "image/png": "[encoded data removed]",
      "text/plain": [
       "<Figure size 720x432 with 1 Axes>"
      ]
     },
     "metadata": {},
     "output_type": "display_data"
    }
   ],
   "source": [
    "plt.figure(figsize=(10,6))\n",
    "sns.countplot(x='SEX', data=data)\n",
    "plt.xlabel('SEX (1=male, 2=female)')"
   ]
  },
  {
   "cell_type": "code",
   "execution_count": 13,
   "metadata": {},
   "outputs": [
    {
     "data": {
      "text/plain": [
       "(array([5.127e+03, 8.261e+03, 6.514e+03, 4.812e+03, 2.606e+03, 1.836e+03,\n",
       "        6.280e+02, 1.710e+02, 4.000e+01, 5.000e+00]),\n",
       " array([21. , 26.8, 32.6, 38.4, 44.2, 50. , 55.8, 61.6, 67.4, 73.2, 79. ]),\n",
       " <a list of 10 Patch objects>)"
      ]
     },
     "execution_count": 13,
     "metadata": {},
     "output_type": "execute_result"
    },
    {
     "data": {
      "image/png": "[encoded data removed]",
      "text/plain": [
       "<Figure size 720x432 with 1 Axes>"
      ]
     },
     "metadata": {},
     "output_type": "display_data"
    }
   ],
   "source": [
    "# Looking at age distributions in the credit card dataset\n",
    "plt.figure(figsize=(10,6))\n",
    "plt.hist(data['AGE'])"
   ]
  },
  {
   "cell_type": "code",
   "execution_count": 14,
   "metadata": {},
   "outputs": [
    {
     "data": {
      "text/plain": [
       "default.payment.next.month    1.000000\n",
       "PAY_0                         0.324794\n",
       "PAY_2                         0.263551\n",
       "PAY_3                         0.235253\n",
       "PAY_4                         0.216614\n",
       "PAY_5                         0.204149\n",
       "PAY_6                         0.186866\n",
       "EDUCATION                     0.028006\n",
       "AGE                           0.013890\n",
       "BILL_AMT6                    -0.005372\n",
       "BILL_AMT5                    -0.006760\n",
       "BILL_AMT4                    -0.010156\n",
       "ID                           -0.013952\n",
       "BILL_AMT3                    -0.014076\n",
       "BILL_AMT2                    -0.014193\n",
       "BILL_AMT1                    -0.019644\n",
       "MARRIAGE                     -0.024339\n",
       "SEX                          -0.039961\n",
       "PAY_AMT6                     -0.053183\n",
       "PAY_AMT5                     -0.055124\n",
       "PAY_AMT3                     -0.056250\n",
       "PAY_AMT4                     -0.056827\n",
       "PAY_AMT2                     -0.058579\n",
       "PAY_AMT1                     -0.072929\n",
       "LIMIT_BAL                    -0.153520\n",
       "Name: default.payment.next.month, dtype: float64"
      ]
     },
     "execution_count": 14,
     "metadata": {},
     "output_type": "execute_result"
    }
   ],
   "source": [
    "# Checking correlation of features with target variable\n",
    "data.corr()['default.payment.next.month'].sort_values(ascending=False)"
   ]
  },
  {
   "cell_type": "code",
   "execution_count": 15,
   "metadata": {},
   "outputs": [
    {
     "data": {
      "text/plain": [
       "<matplotlib.axes._subplots.AxesSubplot at 0x1a21469250>"
      ]
     },
     "execution_count": 15,
     "metadata": {},
     "output_type": "execute_result"
    },
    {
     "data": {
      "image/png": "[encoded data removed]",
      "text/plain": [
       "<Figure size 720x432 with 1 Axes>"
      ]
     },
     "metadata": {},
     "output_type": "display_data"
    }
   ],
   "source": [
    "# Checking to see if people defaulted or not for various PAY_0 categories\n",
    "plt.figure(figsize=(10,6))\n",
    "sns.countplot(x='PAY_0', hue='default.payment.next.month', data=data)"
   ]
  },
  {
   "cell_type": "markdown",
   "metadata": {},
   "source": [
    "### Looks like people default more if they have a payment delay of more than 2 months"
   ]
  },
  {
   "cell_type": "code",
   "execution_count": 16,
   "metadata": {},
   "outputs": [
    {
     "data": {
      "text/plain": [
       "<matplotlib.axes._subplots.AxesSubplot at 0x1a21b8dd50>"
      ]
     },
     "execution_count": 16,
     "metadata": {},
     "output_type": "execute_result"
    },
    {
     "data": {
      "image/png": "[encoded data removed]",
      "text/plain": [
       "<Figure size 720x432 with 1 Axes>"
      ]
     },
     "metadata": {},
     "output_type": "display_data"
    }
   ],
   "source": [
    "# Exploring the above case\n",
    "case_1 = data[data['PAY_0'] >= 2]['PAY_0']\n",
    "plt.figure(figsize=(10,6))\n",
    "sns.countplot(x=case_1, hue='default.payment.next.month', data=data)"
   ]
  },
  {
   "cell_type": "code",
   "execution_count": 17,
   "metadata": {},
   "outputs": [
    {
     "data": {
      "text/plain": [
       "<matplotlib.axes._subplots.AxesSubplot at 0x1a21bee450>"
      ]
     },
     "execution_count": 17,
     "metadata": {},
     "output_type": "execute_result"
    },
    {
     "data": {
      "image/png": "[encoded data removed]",
      "text/plain": [
       "<Figure size 720x432 with 1 Axes>"
      ]
     },
     "metadata": {},
     "output_type": "display_data"
    }
   ],
   "source": [
    "# For 3 months and more of he above case\n",
    "case_2 = data[data['PAY_0'] >= 3]['PAY_0']\n",
    "plt.figure(figsize=(10,6))\n",
    "sns.countplot(x=case_2, hue='default.payment.next.month', data=data)"
   ]
  },
  {
   "cell_type": "code",
   "execution_count": 18,
   "metadata": {
    "scrolled": true
   },
   "outputs": [
    {
     "data": {
      "text/plain": [
       "<matplotlib.axes._subplots.AxesSubplot at 0x1a21b90f10>"
      ]
     },
     "execution_count": 18,
     "metadata": {},
     "output_type": "execute_result"
    },
    {
     "data": {
      "image/png": "[encoded data removed]",
      "text/plain": [
       "<Figure size 720x432 with 2 Axes>"
      ]
     },
     "metadata": {},
     "output_type": "display_data"
    }
   ],
   "source": [
    "plt.figure(figsize=(10,6))\n",
    "sns.heatmap(data.corr(), cmap='coolwarm')"
   ]
  },
  {
   "cell_type": "markdown",
   "metadata": {},
   "source": [
    "***\n",
    "### As there were no missing values, there isn't a lot of data cleaning to do."
   ]
  },
  {
   "cell_type": "markdown",
   "metadata": {},
   "source": [
    "***\n",
    "## Creation of the Machine learning model"
   ]
  },
  {
   "cell_type": "markdown",
   "metadata": {},
   "source": [
    "### I'll use LogisticRegression, DecisionTreeClassifier, RandomForestClassifier. I'll also use a Artificial neural network. Let's see which model predicts best.\n",
    "***"
   ]
  },
  {
   "cell_type": "code",
   "execution_count": 19,
   "metadata": {},
   "outputs": [],
   "source": [
    "from sklearn.model_selection import train_test_split"
   ]
  },
  {
   "cell_type": "code",
   "execution_count": 20,
   "metadata": {},
   "outputs": [],
   "source": [
    "X = data.drop('default.payment.next.month', axis=1)\n",
    "y = data['default.payment.next.month']\n",
    "X_train, X_test, y_train, y_test = train_test_split(X, y, test_size=0.3)"
   ]
  },
  {
   "cell_type": "code",
   "execution_count": 21,
   "metadata": {},
   "outputs": [],
   "source": [
    "from sklearn.linear_model import LogisticRegression\n",
    "from sklearn.tree import DecisionTreeClassifier\n",
    "from sklearn.ensemble import RandomForestClassifier\n",
    "from tensorflow.keras.models import Sequential\n",
    "from tensorflow.keras.layers import Dense,Dropout\n",
    "from sklearn.metrics import classification_report,confusion_matrix\n",
    "from sklearn.preprocessing import StandardScaler\n",
    "from tensorflow.keras.callbacks import EarlyStopping"
   ]
  },
  {
   "cell_type": "code",
   "execution_count": 22,
   "metadata": {},
   "outputs": [],
   "source": [
    "scaler = StandardScaler()\n",
    "X_train = scaler.fit_transform(X_train)\n",
    "X_test = scaler.transform(X_test)"
   ]
  },
  {
   "cell_type": "markdown",
   "metadata": {},
   "source": [
    "### Logistic Regression"
   ]
  },
  {
   "cell_type": "code",
   "execution_count": 23,
   "metadata": {},
   "outputs": [],
   "source": [
    "logistic_model = LogisticRegression() "
   ]
  },
  {
   "cell_type": "code",
   "execution_count": 24,
   "metadata": {},
   "outputs": [
    {
     "data": {
      "text/plain": [
       "LogisticRegression(C=1.0, class_weight=None, dual=False, fit_intercept=True,\n",
       "                   intercept_scaling=1, l1_ratio=None, max_iter=100,\n",
       "                   multi_class='auto', n_jobs=None, penalty='l2',\n",
       "                   random_state=None, solver='lbfgs', tol=0.0001, verbose=0,\n",
       "                   warm_start=False)"
      ]
     },
     "execution_count": 24,
     "metadata": {},
     "output_type": "execute_result"
    }
   ],
   "source": [
    "logistic_model.fit(X_train, y_train)"
   ]
  },
  {
   "cell_type": "code",
   "execution_count": 25,
   "metadata": {},
   "outputs": [],
   "source": [
    "pred_logistic = logistic_model.predict(X_test)"
   ]
  },
  {
   "cell_type": "code",
   "execution_count": 26,
   "metadata": {},
   "outputs": [
    {
     "name": "stdout",
     "output_type": "stream",
     "text": [
      "              precision    recall  f1-score   support\n",
      "\n",
      "           0       0.82      0.97      0.89      7007\n",
      "           1       0.69      0.25      0.36      1993\n",
      "\n",
      "    accuracy                           0.81      9000\n",
      "   macro avg       0.76      0.61      0.63      9000\n",
      "weighted avg       0.79      0.81      0.77      9000\n",
      "\n",
      "\n",
      "\n",
      "[[6789  218]\n",
      " [1500  493]]\n"
     ]
    }
   ],
   "source": [
    "print(classification_report(y_test, pred_logistic))\n",
    "print('\\n')\n",
    "print(confusion_matrix(y_test, pred_logistic))"
   ]
  },
  {
   "cell_type": "markdown",
   "metadata": {},
   "source": [
    "### Random Forest Classifier"
   ]
  },
  {
   "cell_type": "code",
   "execution_count": 27,
   "metadata": {},
   "outputs": [],
   "source": [
    "random_forest_model = RandomForestClassifier(n_estimators=300)"
   ]
  },
  {
   "cell_type": "code",
   "execution_count": 28,
   "metadata": {},
   "outputs": [
    {
     "data": {
      "text/plain": [
       "RandomForestClassifier(bootstrap=True, ccp_alpha=0.0, class_weight=None,\n",
       "                       criterion='gini', max_depth=None, max_features='auto',\n",
       "                       max_leaf_nodes=None, max_samples=None,\n",
       "                       min_impurity_decrease=0.0, min_impurity_split=None,\n",
       "                       min_samples_leaf=1, min_samples_split=2,\n",
       "                       min_weight_fraction_leaf=0.0, n_estimators=300,\n",
       "                       n_jobs=None, oob_score=False, random_state=None,\n",
       "                       verbose=0, warm_start=False)"
      ]
     },
     "execution_count": 28,
     "metadata": {},
     "output_type": "execute_result"
    }
   ],
   "source": [
    "random_forest_model.fit(X_train, y_train)"
   ]
  },
  {
   "cell_type": "code",
   "execution_count": 29,
   "metadata": {},
   "outputs": [],
   "source": [
    "pred_random_forest = random_forest_model.predict(X_test)"
   ]
  },
  {
   "cell_type": "code",
   "execution_count": 30,
   "metadata": {},
   "outputs": [
    {
     "name": "stdout",
     "output_type": "stream",
     "text": [
      "              precision    recall  f1-score   support\n",
      "\n",
      "           0       0.84      0.95      0.89      7007\n",
      "           1       0.66      0.36      0.46      1993\n",
      "\n",
      "    accuracy                           0.82      9000\n",
      "   macro avg       0.75      0.65      0.68      9000\n",
      "weighted avg       0.80      0.82      0.80      9000\n",
      "\n",
      "\n",
      "\n",
      "[[6645  362]\n",
      " [1284  709]]\n"
     ]
    }
   ],
   "source": [
    "print(classification_report(y_test, pred_random_forest))\n",
    "print('\\n')\n",
    "print(confusion_matrix(y_test, pred_random_forest))"
   ]
  },
  {
   "cell_type": "markdown",
   "metadata": {},
   "source": [
    "### Decision Tree Classifier"
   ]
  },
  {
   "cell_type": "code",
   "execution_count": 31,
   "metadata": {},
   "outputs": [],
   "source": [
    "tree_model = DecisionTreeClassifier()"
   ]
  },
  {
   "cell_type": "code",
   "execution_count": 32,
   "metadata": {},
   "outputs": [
    {
     "data": {
      "text/plain": [
       "DecisionTreeClassifier(ccp_alpha=0.0, class_weight=None, criterion='gini',\n",
       "                       max_depth=None, max_features=None, max_leaf_nodes=None,\n",
       "                       min_impurity_decrease=0.0, min_impurity_split=None,\n",
       "                       min_samples_leaf=1, min_samples_split=2,\n",
       "                       min_weight_fraction_leaf=0.0, presort='deprecated',\n",
       "                       random_state=None, splitter='best')"
      ]
     },
     "execution_count": 32,
     "metadata": {},
     "output_type": "execute_result"
    }
   ],
   "source": [
    "tree_model.fit(X_train,y_train)"
   ]
  },
  {
   "cell_type": "code",
   "execution_count": 33,
   "metadata": {},
   "outputs": [],
   "source": [
    "pred_tree = tree_model.predict(X_test)"
   ]
  },
  {
   "cell_type": "code",
   "execution_count": 34,
   "metadata": {},
   "outputs": [
    {
     "name": "stdout",
     "output_type": "stream",
     "text": [
      "              precision    recall  f1-score   support\n",
      "\n",
      "           0       0.83      0.82      0.82      7007\n",
      "           1       0.39      0.41      0.40      1993\n",
      "\n",
      "    accuracy                           0.73      9000\n",
      "   macro avg       0.61      0.61      0.61      9000\n",
      "weighted avg       0.73      0.73      0.73      9000\n",
      "\n",
      "\n",
      "\n",
      "[[5718 1289]\n",
      " [1181  812]]\n"
     ]
    }
   ],
   "source": [
    "print(classification_report(y_test, pred_tree))\n",
    "print('\\n')\n",
    "print(confusion_matrix(y_test, pred_tree))"
   ]
  },
  {
   "cell_type": "markdown",
   "metadata": {},
   "source": [
    "***\n",
    "### ANN"
   ]
  },
  {
   "cell_type": "code",
   "execution_count": 35,
   "metadata": {},
   "outputs": [],
   "source": [
    "ann_model = Sequential()"
   ]
  },
  {
   "cell_type": "code",
   "execution_count": 36,
   "metadata": {},
   "outputs": [],
   "source": [
    "early_stop = EarlyStopping(monitor='val_loss', mode='min', patience=35)"
   ]
  },
  {
   "cell_type": "code",
   "execution_count": 37,
   "metadata": {},
   "outputs": [],
   "source": [
    "#input layer\n",
    "ann_model.add(Dense(24, activation='relu'))\n",
    "ann_model.add(Dropout(0.2))\n",
    "\n",
    "#hidden layer\n",
    "ann_model.add(Dense(12, activation='relu'))\n",
    "ann_model.add(Dropout(0.2))\n",
    "\n",
    "#hidden layer\n",
    "ann_model.add(Dense(6, activation='relu'))\n",
    "ann_model.add(Dropout(0.2))\n",
    "\n",
    "#output layer\n",
    "ann_model.add(Dense(1, activation='sigmoid'))\n",
    "\n",
    "#compile model\n",
    "ann_model.compile(loss='binary_crossentropy', optimizer='adam')"
   ]
  },
  {
   "cell_type": "code",
   "execution_count": 38,
   "metadata": {},
   "outputs": [
    {
     "name": "stdout",
     "output_type": "stream",
     "text": [
      "Epoch 1/300\n",
      "165/165 [==============================] - 0s 3ms/step - loss: 0.5563 - val_loss: 0.4892\n",
      "Epoch 2/300\n",
      "165/165 [==============================] - 0s 2ms/step - loss: 0.5103 - val_loss: 0.4726\n",
      "Epoch 3/300\n",
      "165/165 [==============================] - 0s 2ms/step - loss: 0.4960 - val_loss: 0.4650\n",
      "Epoch 4/300\n",
      "165/165 [==============================] - 0s 2ms/step - loss: 0.4844 - val_loss: 0.4569\n",
      "Epoch 5/300\n",
      "165/165 [==============================] - 0s 2ms/step - loss: 0.4767 - val_loss: 0.4534\n",
      "Epoch 6/300\n",
      "165/165 [==============================] - 0s 2ms/step - loss: 0.4741 - val_loss: 0.4498\n",
      "Epoch 7/300\n",
      "165/165 [==============================] - 0s 2ms/step - loss: 0.4678 - val_loss: 0.4464\n",
      "Epoch 8/300\n",
      "165/165 [==============================] - 0s 2ms/step - loss: 0.4632 - val_loss: 0.4451\n",
      "Epoch 9/300\n",
      "165/165 [==============================] - 0s 2ms/step - loss: 0.4617 - val_loss: 0.4434\n",
      "Epoch 10/300\n",
      "165/165 [==============================] - 0s 2ms/step - loss: 0.4584 - val_loss: 0.4426\n",
      "Epoch 11/300\n",
      "165/165 [==============================] - 0s 3ms/step - loss: 0.4570 - val_loss: 0.4417\n",
      "Epoch 12/300\n",
      "165/165 [==============================] - 0s 3ms/step - loss: 0.4575 - val_loss: 0.4399\n",
      "Epoch 13/300\n",
      "165/165 [==============================] - 1s 3ms/step - loss: 0.4571 - val_loss: 0.4394\n",
      "Epoch 14/300\n",
      "165/165 [==============================] - 0s 3ms/step - loss: 0.4546 - val_loss: 0.4401\n",
      "Epoch 15/300\n",
      "165/165 [==============================] - 0s 2ms/step - loss: 0.4513 - val_loss: 0.4381\n",
      "Epoch 16/300\n",
      "165/165 [==============================] - 0s 2ms/step - loss: 0.4564 - val_loss: 0.4392\n",
      "Epoch 17/300\n",
      "165/165 [==============================] - 0s 2ms/step - loss: 0.4515 - val_loss: 0.4381\n",
      "Epoch 18/300\n",
      "165/165 [==============================] - 0s 2ms/step - loss: 0.4493 - val_loss: 0.4375\n",
      "Epoch 19/300\n",
      "165/165 [==============================] - 0s 2ms/step - loss: 0.4485 - val_loss: 0.4372\n",
      "Epoch 20/300\n",
      "165/165 [==============================] - 0s 3ms/step - loss: 0.4497 - val_loss: 0.4377\n",
      "Epoch 21/300\n",
      "165/165 [==============================] - 0s 2ms/step - loss: 0.4468 - val_loss: 0.4369\n",
      "Epoch 22/300\n",
      "165/165 [==============================] - 0s 3ms/step - loss: 0.4468 - val_loss: 0.4375\n",
      "Epoch 23/300\n",
      "165/165 [==============================] - 0s 2ms/step - loss: 0.4484 - val_loss: 0.4366\n",
      "Epoch 24/300\n",
      "165/165 [==============================] - 0s 3ms/step - loss: 0.4452 - val_loss: 0.4363\n",
      "Epoch 25/300\n",
      "165/165 [==============================] - 0s 2ms/step - loss: 0.4474 - val_loss: 0.4361\n",
      "Epoch 26/300\n",
      "165/165 [==============================] - 0s 3ms/step - loss: 0.4460 - val_loss: 0.4354\n",
      "Epoch 27/300\n",
      "165/165 [==============================] - 0s 2ms/step - loss: 0.4452 - val_loss: 0.4364\n",
      "Epoch 28/300\n",
      "165/165 [==============================] - 0s 3ms/step - loss: 0.4445 - val_loss: 0.4368\n",
      "Epoch 29/300\n",
      "165/165 [==============================] - 0s 2ms/step - loss: 0.4462 - val_loss: 0.4357\n",
      "Epoch 30/300\n",
      "165/165 [==============================] - 0s 2ms/step - loss: 0.4417 - val_loss: 0.4353\n",
      "Epoch 31/300\n",
      "165/165 [==============================] - 0s 2ms/step - loss: 0.4430 - val_loss: 0.4366\n",
      "Epoch 32/300\n",
      "165/165 [==============================] - 0s 2ms/step - loss: 0.4418 - val_loss: 0.4357\n",
      "Epoch 33/300\n",
      "165/165 [==============================] - 0s 2ms/step - loss: 0.4417 - val_loss: 0.4356\n",
      "Epoch 34/300\n",
      "165/165 [==============================] - 0s 2ms/step - loss: 0.4417 - val_loss: 0.4360\n",
      "Epoch 35/300\n",
      "165/165 [==============================] - 0s 2ms/step - loss: 0.4431 - val_loss: 0.4346\n",
      "Epoch 36/300\n",
      "165/165 [==============================] - 0s 2ms/step - loss: 0.4417 - val_loss: 0.4349\n",
      "Epoch 37/300\n",
      "165/165 [==============================] - 0s 2ms/step - loss: 0.4404 - val_loss: 0.4345\n",
      "Epoch 38/300\n",
      "165/165 [==============================] - 0s 2ms/step - loss: 0.4394 - val_loss: 0.4336\n",
      "Epoch 39/300\n",
      "165/165 [==============================] - 0s 2ms/step - loss: 0.4409 - val_loss: 0.4341\n",
      "Epoch 40/300\n",
      "165/165 [==============================] - 0s 2ms/step - loss: 0.4388 - val_loss: 0.4344\n",
      "Epoch 41/300\n",
      "165/165 [==============================] - 0s 2ms/step - loss: 0.4410 - val_loss: 0.4340\n",
      "Epoch 42/300\n",
      "165/165 [==============================] - 0s 3ms/step - loss: 0.4390 - val_loss: 0.4346\n",
      "Epoch 43/300\n",
      "165/165 [==============================] - 0s 3ms/step - loss: 0.4390 - val_loss: 0.4344\n",
      "Epoch 44/300\n",
      "165/165 [==============================] - 0s 3ms/step - loss: 0.4400 - val_loss: 0.4341\n",
      "Epoch 45/300\n",
      "165/165 [==============================] - 0s 3ms/step - loss: 0.4390 - val_loss: 0.4349\n",
      "Epoch 46/300\n",
      "165/165 [==============================] - 0s 2ms/step - loss: 0.4396 - val_loss: 0.4340\n",
      "Epoch 47/300\n",
      "165/165 [==============================] - 0s 2ms/step - loss: 0.4384 - val_loss: 0.4340\n",
      "Epoch 48/300\n",
      "165/165 [==============================] - 0s 2ms/step - loss: 0.4375 - val_loss: 0.4332\n",
      "Epoch 49/300\n",
      "165/165 [==============================] - 0s 3ms/step - loss: 0.4378 - val_loss: 0.4339\n",
      "Epoch 50/300\n",
      "165/165 [==============================] - 0s 3ms/step - loss: 0.4396 - val_loss: 0.4343\n",
      "Epoch 51/300\n",
      "165/165 [==============================] - 0s 3ms/step - loss: 0.4388 - val_loss: 0.4333\n",
      "Epoch 52/300\n",
      "165/165 [==============================] - 0s 3ms/step - loss: 0.4382 - val_loss: 0.4331\n",
      "Epoch 53/300\n",
      "165/165 [==============================] - 0s 2ms/step - loss: 0.4364 - val_loss: 0.4331\n",
      "Epoch 54/300\n",
      "165/165 [==============================] - 0s 2ms/step - loss: 0.4377 - val_loss: 0.4334\n",
      "Epoch 55/300\n",
      "165/165 [==============================] - 0s 2ms/step - loss: 0.4373 - val_loss: 0.4336\n",
      "Epoch 56/300\n",
      "165/165 [==============================] - 0s 2ms/step - loss: 0.4365 - val_loss: 0.4334\n",
      "Epoch 57/300\n",
      "165/165 [==============================] - 0s 2ms/step - loss: 0.4366 - val_loss: 0.4346\n",
      "Epoch 58/300\n",
      "165/165 [==============================] - 0s 2ms/step - loss: 0.4374 - val_loss: 0.4334\n",
      "Epoch 59/300\n",
      "165/165 [==============================] - 0s 3ms/step - loss: 0.4374 - val_loss: 0.4333\n",
      "Epoch 60/300\n",
      "165/165 [==============================] - 0s 2ms/step - loss: 0.4356 - val_loss: 0.4335\n",
      "Epoch 61/300\n",
      "165/165 [==============================] - 0s 2ms/step - loss: 0.4364 - val_loss: 0.4328\n",
      "Epoch 62/300\n",
      "165/165 [==============================] - 0s 3ms/step - loss: 0.4352 - val_loss: 0.4340\n",
      "Epoch 63/300\n",
      "165/165 [==============================] - 0s 2ms/step - loss: 0.4366 - val_loss: 0.4335\n",
      "Epoch 64/300\n",
      "165/165 [==============================] - 0s 3ms/step - loss: 0.4359 - val_loss: 0.4327\n",
      "Epoch 65/300\n",
      "165/165 [==============================] - 0s 2ms/step - loss: 0.4365 - val_loss: 0.4331\n",
      "Epoch 66/300\n",
      "165/165 [==============================] - 0s 3ms/step - loss: 0.4378 - val_loss: 0.4333\n",
      "Epoch 67/300\n",
      "165/165 [==============================] - 0s 2ms/step - loss: 0.4350 - val_loss: 0.4328\n",
      "Epoch 68/300\n",
      "165/165 [==============================] - 0s 2ms/step - loss: 0.4342 - val_loss: 0.4332\n",
      "Epoch 69/300\n",
      "165/165 [==============================] - 0s 2ms/step - loss: 0.4343 - val_loss: 0.4327\n",
      "Epoch 70/300\n",
      "165/165 [==============================] - 0s 2ms/step - loss: 0.4342 - val_loss: 0.4334\n",
      "Epoch 71/300\n",
      "165/165 [==============================] - 0s 2ms/step - loss: 0.4351 - val_loss: 0.4335\n",
      "Epoch 72/300\n",
      "165/165 [==============================] - 0s 2ms/step - loss: 0.4368 - val_loss: 0.4334\n",
      "Epoch 73/300\n",
      "165/165 [==============================] - 1s 3ms/step - loss: 0.4348 - val_loss: 0.4334\n",
      "Epoch 74/300\n",
      "165/165 [==============================] - 0s 3ms/step - loss: 0.4369 - val_loss: 0.4335\n",
      "Epoch 75/300\n",
      "165/165 [==============================] - 0s 3ms/step - loss: 0.4346 - val_loss: 0.4330\n",
      "Epoch 76/300\n",
      "165/165 [==============================] - 0s 2ms/step - loss: 0.4346 - val_loss: 0.4328\n",
      "Epoch 77/300\n",
      "165/165 [==============================] - 0s 2ms/step - loss: 0.4338 - val_loss: 0.4334\n",
      "Epoch 78/300\n",
      "165/165 [==============================] - 0s 3ms/step - loss: 0.4336 - val_loss: 0.4327\n",
      "Epoch 79/300\n",
      "165/165 [==============================] - 0s 3ms/step - loss: 0.4342 - val_loss: 0.4330\n",
      "Epoch 80/300\n",
      "165/165 [==============================] - 0s 2ms/step - loss: 0.4318 - val_loss: 0.4323\n",
      "Epoch 81/300\n"
     ]
    },
    {
     "name": "stdout",
     "output_type": "stream",
     "text": [
      "165/165 [==============================] - 0s 2ms/step - loss: 0.4350 - val_loss: 0.4324\n",
      "Epoch 82/300\n",
      "165/165 [==============================] - 0s 2ms/step - loss: 0.4348 - val_loss: 0.4330\n",
      "Epoch 83/300\n",
      "165/165 [==============================] - 0s 2ms/step - loss: 0.4339 - val_loss: 0.4322\n",
      "Epoch 84/300\n",
      "165/165 [==============================] - 0s 2ms/step - loss: 0.4322 - val_loss: 0.4322\n",
      "Epoch 85/300\n",
      "165/165 [==============================] - 0s 2ms/step - loss: 0.4346 - val_loss: 0.4328\n",
      "Epoch 86/300\n",
      "165/165 [==============================] - 0s 3ms/step - loss: 0.4338 - val_loss: 0.4338\n",
      "Epoch 87/300\n",
      "165/165 [==============================] - 0s 3ms/step - loss: 0.4338 - val_loss: 0.4336\n",
      "Epoch 88/300\n",
      "165/165 [==============================] - 0s 3ms/step - loss: 0.4314 - val_loss: 0.4321\n",
      "Epoch 89/300\n",
      "165/165 [==============================] - 0s 2ms/step - loss: 0.4316 - val_loss: 0.4319\n",
      "Epoch 90/300\n",
      "165/165 [==============================] - 0s 2ms/step - loss: 0.4344 - val_loss: 0.4328\n",
      "Epoch 91/300\n",
      "165/165 [==============================] - 0s 3ms/step - loss: 0.4338 - val_loss: 0.4321\n",
      "Epoch 92/300\n",
      "165/165 [==============================] - 0s 2ms/step - loss: 0.4338 - val_loss: 0.4331\n",
      "Epoch 93/300\n",
      "165/165 [==============================] - 0s 2ms/step - loss: 0.4352 - val_loss: 0.4326\n",
      "Epoch 94/300\n",
      "165/165 [==============================] - 0s 2ms/step - loss: 0.4331 - val_loss: 0.4329\n",
      "Epoch 95/300\n",
      "165/165 [==============================] - 0s 2ms/step - loss: 0.4310 - val_loss: 0.4326\n",
      "Epoch 96/300\n",
      "165/165 [==============================] - 0s 3ms/step - loss: 0.4346 - val_loss: 0.4331\n",
      "Epoch 97/300\n",
      "165/165 [==============================] - 0s 3ms/step - loss: 0.4320 - val_loss: 0.4335\n",
      "Epoch 98/300\n",
      "165/165 [==============================] - 0s 2ms/step - loss: 0.4327 - val_loss: 0.4324\n",
      "Epoch 99/300\n",
      "165/165 [==============================] - 0s 2ms/step - loss: 0.4334 - val_loss: 0.4331\n",
      "Epoch 100/300\n",
      "165/165 [==============================] - 0s 2ms/step - loss: 0.4319 - val_loss: 0.4326\n",
      "Epoch 101/300\n",
      "165/165 [==============================] - 0s 2ms/step - loss: 0.4332 - val_loss: 0.4334\n",
      "Epoch 102/300\n",
      "165/165 [==============================] - 0s 2ms/step - loss: 0.4311 - val_loss: 0.4328\n",
      "Epoch 103/300\n",
      "165/165 [==============================] - 0s 2ms/step - loss: 0.4315 - val_loss: 0.4331\n",
      "Epoch 104/300\n",
      "165/165 [==============================] - 0s 2ms/step - loss: 0.4322 - val_loss: 0.4325\n",
      "Epoch 105/300\n",
      "165/165 [==============================] - 0s 2ms/step - loss: 0.4344 - val_loss: 0.4322\n",
      "Epoch 106/300\n",
      "165/165 [==============================] - 0s 2ms/step - loss: 0.4352 - val_loss: 0.4323\n",
      "Epoch 107/300\n",
      "165/165 [==============================] - 0s 2ms/step - loss: 0.4339 - val_loss: 0.4331\n",
      "Epoch 108/300\n",
      "165/165 [==============================] - 0s 2ms/step - loss: 0.4310 - val_loss: 0.4322\n",
      "Epoch 109/300\n",
      "165/165 [==============================] - 0s 2ms/step - loss: 0.4318 - val_loss: 0.4324\n",
      "Epoch 110/300\n",
      "165/165 [==============================] - 0s 2ms/step - loss: 0.4319 - val_loss: 0.4325\n",
      "Epoch 111/300\n",
      "165/165 [==============================] - 0s 2ms/step - loss: 0.4319 - val_loss: 0.4327\n",
      "Epoch 112/300\n",
      "165/165 [==============================] - 0s 2ms/step - loss: 0.4309 - val_loss: 0.4329\n",
      "Epoch 113/300\n",
      "165/165 [==============================] - 0s 2ms/step - loss: 0.4327 - val_loss: 0.4330\n",
      "Epoch 114/300\n",
      "165/165 [==============================] - 0s 2ms/step - loss: 0.4346 - val_loss: 0.4328\n",
      "Epoch 115/300\n",
      "165/165 [==============================] - 0s 2ms/step - loss: 0.4317 - val_loss: 0.4325\n",
      "Epoch 116/300\n",
      "165/165 [==============================] - 0s 2ms/step - loss: 0.4326 - val_loss: 0.4318\n",
      "Epoch 117/300\n",
      "165/165 [==============================] - 0s 2ms/step - loss: 0.4306 - val_loss: 0.4319\n",
      "Epoch 118/300\n",
      "165/165 [==============================] - 0s 2ms/step - loss: 0.4317 - val_loss: 0.4322\n",
      "Epoch 119/300\n",
      "165/165 [==============================] - 0s 2ms/step - loss: 0.4318 - val_loss: 0.4327\n",
      "Epoch 120/300\n",
      "165/165 [==============================] - 0s 2ms/step - loss: 0.4336 - val_loss: 0.4321\n",
      "Epoch 121/300\n",
      "165/165 [==============================] - 0s 2ms/step - loss: 0.4311 - val_loss: 0.4322\n",
      "Epoch 122/300\n",
      "165/165 [==============================] - 0s 2ms/step - loss: 0.4314 - val_loss: 0.4324\n",
      "Epoch 123/300\n",
      "165/165 [==============================] - 0s 2ms/step - loss: 0.4316 - val_loss: 0.4323\n",
      "Epoch 124/300\n",
      "165/165 [==============================] - 0s 2ms/step - loss: 0.4307 - val_loss: 0.4326\n",
      "Epoch 125/300\n",
      "165/165 [==============================] - 0s 2ms/step - loss: 0.4312 - val_loss: 0.4332\n",
      "Epoch 126/300\n",
      "165/165 [==============================] - 0s 2ms/step - loss: 0.4323 - val_loss: 0.4325\n",
      "Epoch 127/300\n",
      "165/165 [==============================] - 0s 2ms/step - loss: 0.4306 - val_loss: 0.4329\n",
      "Epoch 128/300\n",
      "165/165 [==============================] - 0s 2ms/step - loss: 0.4317 - val_loss: 0.4325\n",
      "Epoch 129/300\n",
      "165/165 [==============================] - 0s 2ms/step - loss: 0.4293 - val_loss: 0.4323\n",
      "Epoch 130/300\n",
      "165/165 [==============================] - 0s 2ms/step - loss: 0.4304 - val_loss: 0.4323\n",
      "Epoch 131/300\n",
      "165/165 [==============================] - 0s 2ms/step - loss: 0.4306 - val_loss: 0.4321\n",
      "Epoch 132/300\n",
      "165/165 [==============================] - 0s 2ms/step - loss: 0.4314 - val_loss: 0.4321\n",
      "Epoch 133/300\n",
      "165/165 [==============================] - 0s 2ms/step - loss: 0.4298 - val_loss: 0.4326\n",
      "Epoch 134/300\n",
      "165/165 [==============================] - 0s 2ms/step - loss: 0.4299 - val_loss: 0.4319\n",
      "Epoch 135/300\n",
      "165/165 [==============================] - 0s 2ms/step - loss: 0.4303 - val_loss: 0.4320\n",
      "Epoch 136/300\n",
      "165/165 [==============================] - 0s 2ms/step - loss: 0.4309 - val_loss: 0.4320\n",
      "Epoch 137/300\n",
      "165/165 [==============================] - 0s 2ms/step - loss: 0.4296 - val_loss: 0.4316\n",
      "Epoch 138/300\n",
      "165/165 [==============================] - 0s 2ms/step - loss: 0.4303 - val_loss: 0.4328\n",
      "Epoch 139/300\n",
      "165/165 [==============================] - 0s 2ms/step - loss: 0.4275 - val_loss: 0.4331\n",
      "Epoch 140/300\n",
      "165/165 [==============================] - 0s 2ms/step - loss: 0.4310 - val_loss: 0.4325\n",
      "Epoch 141/300\n",
      "165/165 [==============================] - 0s 2ms/step - loss: 0.4296 - val_loss: 0.4333\n",
      "Epoch 142/300\n",
      "165/165 [==============================] - 0s 2ms/step - loss: 0.4293 - val_loss: 0.4327\n",
      "Epoch 143/300\n",
      "165/165 [==============================] - 0s 2ms/step - loss: 0.4284 - val_loss: 0.4321\n",
      "Epoch 144/300\n",
      "165/165 [==============================] - 0s 2ms/step - loss: 0.4303 - val_loss: 0.4325\n",
      "Epoch 145/300\n",
      "165/165 [==============================] - 0s 2ms/step - loss: 0.4301 - val_loss: 0.4321\n",
      "Epoch 146/300\n",
      "165/165 [==============================] - 0s 2ms/step - loss: 0.4306 - val_loss: 0.4338\n",
      "Epoch 147/300\n",
      "165/165 [==============================] - 0s 2ms/step - loss: 0.4323 - val_loss: 0.4330\n",
      "Epoch 148/300\n",
      "165/165 [==============================] - 0s 2ms/step - loss: 0.4311 - val_loss: 0.4324\n",
      "Epoch 149/300\n",
      "165/165 [==============================] - 0s 2ms/step - loss: 0.4316 - val_loss: 0.4328\n",
      "Epoch 150/300\n",
      "165/165 [==============================] - 0s 2ms/step - loss: 0.4289 - val_loss: 0.4333\n",
      "Epoch 151/300\n",
      "165/165 [==============================] - 0s 2ms/step - loss: 0.4301 - val_loss: 0.4335\n",
      "Epoch 152/300\n",
      "165/165 [==============================] - 0s 2ms/step - loss: 0.4298 - val_loss: 0.4322\n",
      "Epoch 153/300\n",
      "165/165 [==============================] - 0s 2ms/step - loss: 0.4296 - val_loss: 0.4324\n",
      "Epoch 154/300\n",
      "165/165 [==============================] - 0s 2ms/step - loss: 0.4295 - val_loss: 0.4333\n",
      "Epoch 155/300\n",
      "165/165 [==============================] - 0s 2ms/step - loss: 0.4290 - val_loss: 0.4331\n",
      "Epoch 156/300\n",
      "165/165 [==============================] - 0s 2ms/step - loss: 0.4304 - val_loss: 0.4328\n",
      "Epoch 157/300\n",
      "165/165 [==============================] - 0s 2ms/step - loss: 0.4300 - val_loss: 0.4327\n",
      "Epoch 158/300\n",
      "165/165 [==============================] - 0s 2ms/step - loss: 0.4301 - val_loss: 0.4327\n",
      "Epoch 159/300\n",
      "165/165 [==============================] - 0s 2ms/step - loss: 0.4333 - val_loss: 0.4324\n",
      "Epoch 160/300\n",
      "165/165 [==============================] - 0s 2ms/step - loss: 0.4318 - val_loss: 0.4320\n"
     ]
    },
    {
     "name": "stdout",
     "output_type": "stream",
     "text": [
      "Epoch 161/300\n",
      "165/165 [==============================] - 0s 2ms/step - loss: 0.4319 - val_loss: 0.4324\n",
      "Epoch 162/300\n",
      "165/165 [==============================] - 0s 2ms/step - loss: 0.4303 - val_loss: 0.4313\n",
      "Epoch 163/300\n",
      "165/165 [==============================] - 0s 2ms/step - loss: 0.4305 - val_loss: 0.4318\n",
      "Epoch 164/300\n",
      "165/165 [==============================] - 0s 2ms/step - loss: 0.4301 - val_loss: 0.4322\n",
      "Epoch 165/300\n",
      "165/165 [==============================] - 0s 2ms/step - loss: 0.4290 - val_loss: 0.4330\n",
      "Epoch 166/300\n",
      "165/165 [==============================] - 0s 2ms/step - loss: 0.4321 - val_loss: 0.4329\n",
      "Epoch 167/300\n",
      "165/165 [==============================] - 0s 2ms/step - loss: 0.4292 - val_loss: 0.4327\n",
      "Epoch 168/300\n",
      "165/165 [==============================] - 0s 2ms/step - loss: 0.4303 - val_loss: 0.4326\n",
      "Epoch 169/300\n",
      "165/165 [==============================] - 0s 2ms/step - loss: 0.4286 - val_loss: 0.4328\n",
      "Epoch 170/300\n",
      "165/165 [==============================] - 0s 2ms/step - loss: 0.4288 - val_loss: 0.4316\n",
      "Epoch 171/300\n",
      "165/165 [==============================] - 0s 2ms/step - loss: 0.4291 - val_loss: 0.4320\n",
      "Epoch 172/300\n",
      "165/165 [==============================] - 0s 2ms/step - loss: 0.4307 - val_loss: 0.4329\n",
      "Epoch 173/300\n",
      "165/165 [==============================] - 0s 2ms/step - loss: 0.4296 - val_loss: 0.4330\n",
      "Epoch 174/300\n",
      "165/165 [==============================] - 0s 2ms/step - loss: 0.4277 - val_loss: 0.4329\n",
      "Epoch 175/300\n",
      "165/165 [==============================] - 0s 2ms/step - loss: 0.4313 - val_loss: 0.4328\n",
      "Epoch 176/300\n",
      "165/165 [==============================] - 0s 2ms/step - loss: 0.4313 - val_loss: 0.4324\n",
      "Epoch 177/300\n",
      "165/165 [==============================] - 0s 2ms/step - loss: 0.4309 - val_loss: 0.4321\n",
      "Epoch 178/300\n",
      "165/165 [==============================] - 0s 2ms/step - loss: 0.4287 - val_loss: 0.4324\n",
      "Epoch 179/300\n",
      "165/165 [==============================] - 0s 2ms/step - loss: 0.4296 - val_loss: 0.4319\n",
      "Epoch 180/300\n",
      "165/165 [==============================] - 0s 2ms/step - loss: 0.4258 - val_loss: 0.4316\n",
      "Epoch 181/300\n",
      "165/165 [==============================] - 0s 2ms/step - loss: 0.4318 - val_loss: 0.4320\n",
      "Epoch 182/300\n",
      "165/165 [==============================] - 0s 2ms/step - loss: 0.4303 - val_loss: 0.4321\n",
      "Epoch 183/300\n",
      "165/165 [==============================] - 0s 2ms/step - loss: 0.4304 - val_loss: 0.4322\n",
      "Epoch 184/300\n",
      "165/165 [==============================] - 0s 2ms/step - loss: 0.4293 - val_loss: 0.4331\n",
      "Epoch 185/300\n",
      "165/165 [==============================] - 0s 2ms/step - loss: 0.4274 - val_loss: 0.4326\n",
      "Epoch 186/300\n",
      "165/165 [==============================] - 0s 2ms/step - loss: 0.4315 - val_loss: 0.4331\n",
      "Epoch 187/300\n",
      "165/165 [==============================] - 0s 2ms/step - loss: 0.4285 - val_loss: 0.4324\n",
      "Epoch 188/300\n",
      "165/165 [==============================] - 0s 2ms/step - loss: 0.4299 - val_loss: 0.4330\n",
      "Epoch 189/300\n",
      "165/165 [==============================] - 0s 2ms/step - loss: 0.4291 - val_loss: 0.4322\n",
      "Epoch 190/300\n",
      "165/165 [==============================] - 0s 2ms/step - loss: 0.4287 - val_loss: 0.4339\n",
      "Epoch 191/300\n",
      "165/165 [==============================] - 0s 2ms/step - loss: 0.4302 - val_loss: 0.4315\n",
      "Epoch 192/300\n",
      "165/165 [==============================] - 0s 2ms/step - loss: 0.4295 - val_loss: 0.4315\n",
      "Epoch 193/300\n",
      "165/165 [==============================] - 0s 2ms/step - loss: 0.4301 - val_loss: 0.4321\n",
      "Epoch 194/300\n",
      "165/165 [==============================] - 0s 2ms/step - loss: 0.4267 - val_loss: 0.4315\n",
      "Epoch 195/300\n",
      "165/165 [==============================] - 0s 2ms/step - loss: 0.4290 - val_loss: 0.4323\n",
      "Epoch 196/300\n",
      "165/165 [==============================] - 0s 2ms/step - loss: 0.4281 - val_loss: 0.4318\n",
      "Epoch 197/300\n",
      "165/165 [==============================] - 0s 2ms/step - loss: 0.4296 - val_loss: 0.4318\n"
     ]
    },
    {
     "data": {
      "text/plain": [
       "<tensorflow.python.keras.callbacks.History at 0x1a4fc4e3d0>"
      ]
     },
     "execution_count": 38,
     "metadata": {},
     "output_type": "execute_result"
    }
   ],
   "source": [
    "ann_model.fit(X_train,y_train,\n",
    "              epochs=300,\n",
    "              batch_size=128,\n",
    "              validation_data=(X_test,y_test),\n",
    "              callbacks=[early_stop])"
   ]
  },
  {
   "cell_type": "code",
   "execution_count": 39,
   "metadata": {},
   "outputs": [
    {
     "data": {
      "text/plain": [
       "<matplotlib.axes._subplots.AxesSubplot at 0x1a4fd57ad0>"
      ]
     },
     "execution_count": 39,
     "metadata": {},
     "output_type": "execute_result"
    },
    {
     "data": {
      "image/png": "[encoded data removed]",
      "text/plain": [
       "<Figure size 432x288 with 1 Axes>"
      ]
     },
     "metadata": {},
     "output_type": "display_data"
    }
   ],
   "source": [
    "losses = pd.DataFrame(ann_model.history.history)\n",
    "losses.plot()"
   ]
  },
  {
   "cell_type": "code",
   "execution_count": 40,
   "metadata": {
    "scrolled": true
   },
   "outputs": [
    {
     "name": "stdout",
     "output_type": "stream",
     "text": [
      "WARNING:tensorflow:From <ipython-input-40-c3ae41e13d02>:1: Sequential.predict_classes (from tensorflow.python.keras.engine.sequential) is deprecated and will be removed after 2021-01-01.\n",
      "Instructions for updating:\n",
      "Please use instead:* `np.argmax(model.predict(x), axis=-1)`,   if your model does multi-class classification   (e.g. if it uses a `softmax` last-layer activation).* `(model.predict(x) > 0.5).astype(\"int32\")`,   if your model does binary classification   (e.g. if it uses a `sigmoid` last-layer activation).\n"
     ]
    }
   ],
   "source": [
    "pred_ann = ann_model.predict_classes(X_test)"
   ]
  },
  {
   "cell_type": "code",
   "execution_count": 41,
   "metadata": {},
   "outputs": [
    {
     "name": "stdout",
     "output_type": "stream",
     "text": [
      "              precision    recall  f1-score   support\n",
      "\n",
      "           0       0.83      0.96      0.89      7007\n",
      "           1       0.69      0.32      0.44      1993\n",
      "\n",
      "    accuracy                           0.82      9000\n",
      "   macro avg       0.76      0.64      0.67      9000\n",
      "weighted avg       0.80      0.82      0.79      9000\n",
      "\n",
      "\n",
      "\n",
      "[[6713  294]\n",
      " [1346  647]]\n"
     ]
    }
   ],
   "source": [
    "print(classification_report(y_test, pred_ann))\n",
    "print('\\n')\n",
    "print(confusion_matrix(y_test, pred_ann))"
   ]
  },
  {
   "cell_type": "markdown",
   "metadata": {},
   "source": [
    "***\n",
    "## Conclusion: It's not a great result for any of the three models, since dataset was already imbalanced in the ratio of 72 to 28. \n",
    "***"
   ]
  }
 ],
 "metadata": {
  "kernelspec": {
   "display_name": "Python 3",
   "language": "python",
   "name": "python3"
  },
  "language_info": {
   "codemirror_mode": {
    "name": "ipython",
    "version": 3
   },
   "file_extension": ".py",
   "mimetype": "text/x-python",
   "name": "python",
   "nbconvert_exporter": "python",
   "pygments_lexer": "ipython3",
   "version": "3.7.6"
  }
 },
 "nbformat": 4,
 "nbformat_minor": 4
}
